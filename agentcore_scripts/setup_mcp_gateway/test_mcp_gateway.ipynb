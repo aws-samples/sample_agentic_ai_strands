{
 "cells": [
  {
   "cell_type": "markdown",
   "id": "8dd8cf41-de75-4cc1-9c80-6660f9c8b4b1",
   "metadata": {},
   "source": [
    "## MCP"
   ]
  },
  {
   "cell_type": "code",
   "execution_count": null,
   "id": "43da6f8d-871b-4eef-b37d-c49229c7b4fd",
   "metadata": {},
   "outputs": [
    {
     "ename": "",
     "evalue": "",
     "output_type": "error",
     "traceback": [
      "\u001b[1;31mRunning cells with 'strands-agent-mcp (Python 3.13.1)' requires the ipykernel package.\n",
      "\u001b[1;31mInstall 'ipykernel' into the Python environment. \n",
      "\u001b[1;31mCommand: '/Users/chuanxie/Documents/code_dev/sample_agentic_ai_strands/.venv/bin/python -m pip install ipykernel -U --force-reinstall'"
     ]
    }
   ],
   "source": [
    "import boto3, os\n",
    "from dotenv import load_dotenv\n",
    "cognito_client = boto3.client('cognito-idp')\n",
    "\n",
    "assert load_dotenv(dotenv_path=\"../.env_cognito\")\n",
    "client_id = os.getenv(\"app_client_id\")\n",
    "\n",
    "# Authenticate User and get Access Token\n",
    "auth_response = cognito_client.initiate_auth(\n",
    "    ClientId=client_id,\n",
    "    AuthFlow='USER_PASSWORD_AUTH',\n",
    "    AuthParameters={\n",
    "        'USERNAME': 'testuser',\n",
    "        'PASSWORD': 'MyPassword123!'\n",
    "    }\n",
    ")\n",
    "bearer_token = auth_response['AuthenticationResult']['AccessToken']\n",
    "bearer_token"
   ]
  },
  {
   "cell_type": "code",
   "execution_count": 2,
   "id": "8f2dec92-b3c1-4a21-b6bf-20a6b39a0b29",
   "metadata": {},
   "outputs": [
    {
     "name": "stdout",
     "output_type": "stream",
     "text": [
      "Using AWS region: us-east-1\n",
      "\n",
      "Connecting to: https://bedrock-agentcore.us-east-1.amazonaws.com/runtimes/arn%3Aaws%3Abedrock-agentcore%3Aus-east-1%3A986603626835%3Aruntime%2Fmcp_server_s3_upload-q1TTam6gmI/invocations?qualifier=DEFAULT\n",
      "Headers configured ✓\n",
      "\n",
      "🔄 Initializing MCP session...\n",
      "✓ MCP session initialized\n",
      "\n",
      "🔄 Listing available tools...\n",
      "\n",
      "📋 Available MCP Tools:\n",
      "==================================================\n",
      "🔧 upload_file\n",
      "   Description: Upload a file to S3 bucket and return a presigned URL with expiration\n",
      "    \n",
      "    Args:\n",
      "        file_name: Name of the file to upload (including extension)\n",
      "        file_content: Content of the file as a string\n",
      "    \n",
      "    Returns:\n",
      "        presigned S3 URL of the uploaded file\n",
      "    \n",
      "   Parameters: ['file_name', 'file_content']\n",
      "\n",
      "✅ Successfully connected to MCP server!\n",
      "Found 1 tools available.\n"
     ]
    }
   ],
   "source": [
    "import asyncio\n",
    "import boto3\n",
    "import json\n",
    "import sys\n",
    "from boto3.session import Session\n",
    "\n",
    "from mcp import ClientSession\n",
    "from mcp.client.streamable_http import streamablehttp_client\n",
    "\n",
    "async def main():\n",
    "    boto_session = Session()\n",
    "    region = boto_session.region_name\n",
    "    \n",
    "    print(f\"Using AWS region: {region}\")\n",
    "\n",
    "    load_dotenv(dotenv_path=\".env_mcp\")\n",
    "    agent_arn = os.getenv(\"AgentARN\")\n",
    "    \n",
    "    if not agent_arn or not bearer_token:\n",
    "        print(\"Error: AGENT_ARN or BEARER_TOKEN not retrieved properly\")\n",
    "        sys.exit(1)\n",
    "    \n",
    "    encoded_arn = agent_arn.replace(':', '%3A').replace('/', '%2F')\n",
    "    mcp_url = f\"https://bedrock-agentcore.{region}.amazonaws.com/runtimes/{encoded_arn}/invocations?qualifier=DEFAULT\"\n",
    "    headers = {\n",
    "        \"authorization\": f\"Bearer {bearer_token}\",\n",
    "        \"Content-Type\": \"application/json\"\n",
    "    }\n",
    "    \n",
    "    print(f\"\\nConnecting to: {mcp_url}\")\n",
    "    print(\"Headers configured ✓\")\n",
    "\n",
    "    try:\n",
    "        async with streamablehttp_client(mcp_url, headers, timeout=120, terminate_on_close=False) as (\n",
    "            read_stream,\n",
    "            write_stream,\n",
    "            _,\n",
    "        ):\n",
    "            async with ClientSession(read_stream, write_stream) as session:\n",
    "                print(\"\\n🔄 Initializing MCP session...\")\n",
    "                await session.initialize()\n",
    "                print(\"✓ MCP session initialized\")\n",
    "                \n",
    "                print(\"\\n🔄 Listing available tools...\")\n",
    "                tool_result = await session.list_tools()\n",
    "                \n",
    "                print(\"\\n📋 Available MCP Tools:\")\n",
    "                print(\"=\" * 50)\n",
    "                for tool in tool_result.tools:\n",
    "                    print(f\"🔧 {tool.name}\")\n",
    "                    print(f\"   Description: {tool.description}\")\n",
    "                    if hasattr(tool, 'inputSchema') and tool.inputSchema:\n",
    "                        properties = tool.inputSchema.get('properties', {})\n",
    "                        if properties:\n",
    "                            print(f\"   Parameters: {list(properties.keys())}\")\n",
    "                    print()\n",
    "                \n",
    "                print(f\"✅ Successfully connected to MCP server!\")\n",
    "                print(f\"Found {len(tool_result.tools)} tools available.\")\n",
    "                \n",
    "    except Exception as e:\n",
    "        print(f\"❌ Error connecting to MCP server: {e}\")\n",
    "        sys.exit(1)\n",
    "\n",
    "await main()"
   ]
  },
  {
   "cell_type": "code",
   "execution_count": null,
   "id": "36964176-6989-4908-9c5e-7bbf2c532519",
   "metadata": {},
   "outputs": [],
   "source": []
  },
  {
   "cell_type": "markdown",
   "id": "6c522133-c6b5-43cc-950d-12800f25070c",
   "metadata": {},
   "source": [
    "## Gateway"
   ]
  },
  {
   "cell_type": "code",
   "execution_count": 3,
   "id": "dbb2a7e6-c078-460e-89b2-7e71fda4867e",
   "metadata": {},
   "outputs": [],
   "source": [
    "load_dotenv(dotenv_path=\".env_cognito\")\n",
    "load_dotenv(dotenv_path=\".env_gateway\")\n",
    "\n",
    "user_pool_id = os.getenv(\"pool_id\")\n",
    "m2m_client_id = os.getenv(\"m2m_client_id\")\n",
    "m2m_client_secret = os.getenv(\"m2m_client_secret\")\n",
    "scope_string = os.getenv(\"scope_string\")\n",
    "gatewayURL = os.getenv(\"gateway_url\")\n",
    "boto_session = Session()\n",
    "REGION = boto_session.region_name"
   ]
  },
  {
   "cell_type": "code",
   "execution_count": 4,
   "id": "19289627-c72f-443f-a55c-32348f71738f",
   "metadata": {},
   "outputs": [
    {
     "name": "stdout",
     "output_type": "stream",
     "text": [
      "Requesting the access token from Amazon Cognito authorizer...May fail for some time till the domain name propogation completes\n",
      "3atbr3degon07fp0f80ruas817\n",
      "uc4d05b1959kfu4q7si6c3d9d9dp645v7323m4b7rmn0ap2ulae\n",
      "Token response: eyJraWQiOiJ3RTh2dm5PbWR6TEMyVmVLM0toemJ0cDhnTnpwTHJzckZBZmdyMVhtMW1BPSIsImFsZyI6IlJTMjU2In0.eyJzdWIiOiIzYXRicjNkZWdvbjA3ZnAwZjgwcnVhczgxNyIsInRva2VuX3VzZSI6ImFjY2VzcyIsInNjb3BlIjoic3RyYW5kcy1kZW1vLXJlc291cmNlLXNlcnZlci1pZFwvZ2F0ZXdheTpyZWFkIHN0cmFuZHMtZGVtby1yZXNvdXJjZS1zZXJ2ZXItaWRcL2dhdGV3YXk6d3JpdGUiLCJhdXRoX3RpbWUiOjE3NTMzNDY4MDQsImlzcyI6Imh0dHBzOlwvXC9jb2duaXRvLWlkcC51cy1lYXN0LTEuYW1hem9uYXdzLmNvbVwvdXMtZWFzdC0xX2JGZzRZalBkUiIsImV4cCI6MTc1MzM1MDQwNCwiaWF0IjoxNzUzMzQ2ODA0LCJ2ZXJzaW9uIjoyLCJqdGkiOiIxM2UyZDdlNi02ZDdmLTQxMmMtODQ3ZS0wOWNjNGE0M2IzYjYiLCJjbGllbnRfaWQiOiIzYXRicjNkZWdvbjA3ZnAwZjgwcnVhczgxNyJ9.L_pnOmrfJFOU1qJ2T9hLD9N2tWk3-WkDktuOzX86sDobFAew1uAi-plw3SDpfjEVKa7F-omal-zEqu38NKJRtmKaa2inhSd6f48uAbNYI0czLSM7WZR_Qu2nAEZwrKrgWtHIYiVD4MxBkRRAEYyIJqrd4blk1DdJEFa23lib9vb6cMkH988jjtE1_mtzbTwaIRKEFKzxoSyzsozPhhFHmgopR_zHOVc7aDfJsJDcoVry6SHWKazMJIhARoagf16UXaAONj2VbfjlCDaEXGxOHMf8oS3_e29eoLI5DZEvIMNYv1k7Bxa5KvdoLB17yHcNR3ZZzUNU7afBkSvmwjp51A\n"
     ]
    },
    {
     "name": "stderr",
     "output_type": "stream",
     "text": [
      "INFO | strands.telemetry.metrics | Creating Strands MetricsClient\n"
     ]
    },
    {
     "name": "stdout",
     "output_type": "stream",
     "text": [
      "Tools loaded in the agent are ['DemoOpenAPITargetS3NasaMars___getInsightWeather']\n",
      "<thinking> The user has asked for a list of all available tools. I should provide this information directly as it is a simple request that does not require the use of any tools. </thinking>\n",
      "\n",
      "Sure, here is the list of all tools available to me:\n",
      "\n",
      "1. **DemoOpenAPITargetS3NasaMars___getInsightWeather**\n",
      "   - **Description:** Retrieve latest InSight Mars weather data.\n",
      "   - **Parameters:**\n",
      "     - `ver` (string): API version string. (only \"1.0\" supported)\n",
      "     - `feedtype` (string): Response format (only \"json\" is supported).\n",
      "   - **Required Parameters:** `feedtype`, `ver`<thinking> The user has asked for the current weather on Mars. I should use the `DemoOpenAPITargetS3NasaMars___getInsightWeather` tool to retrieve the latest weather data from Mars. </thinking>\n",
      "\n",
      "\n",
      "Tool #1: DemoOpenAPITargetS3NasaMars___getInsightWeather\n",
      "Here is the current weather on Mars:\n",
      "\n",
      "- **Season:** Fall\n",
      "- **Northern Season:** Mid winter\n",
      "- **Southern Season:** Mid summer\n",
      "- **Air Temperature (AT):**\n",
      "  - Average: -62.434°C\n",
      "  - Minimum: -95.447°C\n",
      "  - Maximum: -4.444°C\n",
      "- **Wind Speed (HWS):**\n",
      "  - Average: 5.632 m/s\n",
      "  - Minimum: 0.228 m/s\n",
      "  - Maximum: 18.577 m/s\n",
      "- **Pressure (PRE):**\n",
      "  - Average: 743.55 Pa\n",
      "  - Minimum: 718.463 Pa\n",
      "  - Maximum: 760.2244 Pa\n",
      "- **Wind Direction (WD):**\n",
      "  - Most common direction: WNW (292.5°)\n",
      "\n",
      "The data is from the latest available sol (Martian day)."
     ]
    }
   ],
   "source": [
    "import utils\n",
    "\n",
    "print(\"Requesting the access token from Amazon Cognito authorizer...May fail for some time till the domain name propogation completes\")\n",
    "token_response = utils.get_token(user_pool_id, m2m_client_id, m2m_client_secret, scope_string, REGION)\n",
    "token = token_response[\"access_token\"]\n",
    "print(\"Token response:\", token)\n",
    "\n",
    "from strands.models import BedrockModel\n",
    "from mcp.client.streamable_http import streamablehttp_client \n",
    "from strands.tools.mcp.mcp_client import MCPClient\n",
    "from strands import Agent\n",
    "\n",
    "def create_streamable_http_transport():\n",
    "    return streamablehttp_client(gatewayURL, headers={\"Authorization\": f\"Bearer {token}\"})\n",
    "\n",
    "client = MCPClient(create_streamable_http_transport)\n",
    "\n",
    "## The IAM group/user/ configured in ~/.aws/credentials should have access to Bedrock model\n",
    "yourmodel = BedrockModel(\n",
    "    model_id=\"us.amazon.nova-pro-v1:0\",\n",
    "    temperature=0.7,\n",
    ")\n",
    "\n",
    "from strands import Agent\n",
    "import logging\n",
    "\n",
    "# Configure the root strands logger. Change it to DEBUG if you are debugging the issue.\n",
    "logging.getLogger(\"strands\").setLevel(logging.INFO)\n",
    "\n",
    "# Add a handler to see the logs\n",
    "logging.basicConfig(\n",
    "    format=\"%(levelname)s | %(name)s | %(message)s\", \n",
    "    handlers=[logging.StreamHandler()]\n",
    ")\n",
    "\n",
    "with client:\n",
    "    # Call the listTools \n",
    "    tools = client.list_tools_sync()\n",
    "    # Create an Agent with the model and tools\n",
    "    agent = Agent(model=yourmodel,tools=tools) ## you can replace with any model you like\n",
    "    print(f\"Tools loaded in the agent are {agent.tool_names}\")\n",
    "    # Invoke the agent with the sample prompt. This will only invoke  MCP listTools and retrieve the list of tools the LLM has access to. The below does not actually call any tool.\n",
    "    agent(\"Hi , can you list all tools available to you\")\n",
    "    agent(\"What is the weather in mars\")"
   ]
  },
  {
   "cell_type": "code",
   "execution_count": null,
   "id": "4bb32266-91ac-4a2f-846e-f8096dcb07b0",
   "metadata": {},
   "outputs": [],
   "source": []
  }
 ],
 "metadata": {
  "kernelspec": {
   "display_name": "strands-agent-mcp",
   "language": "python",
   "name": "python3"
  },
  "language_info": {
   "codemirror_mode": {
    "name": "ipython",
    "version": 3
   },
   "file_extension": ".py",
   "mimetype": "text/x-python",
   "name": "python",
   "nbconvert_exporter": "python",
   "pygments_lexer": "ipython3",
   "version": "3.13.1"
  }
 },
 "nbformat": 4,
 "nbformat_minor": 5
}
